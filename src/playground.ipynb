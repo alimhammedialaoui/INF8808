{
 "cells": [
  {
   "cell_type": "code",
   "execution_count": 1,
   "metadata": {},
   "outputs": [],
   "source": [
    "import pandas as pd\n",
    "import openpyxl\n",
    "pd.set_option('display.max_rows', 100)"
   ]
  },
  {
   "cell_type": "code",
   "execution_count": 3,
   "metadata": {},
   "outputs": [],
   "source": [
    "file_path = '../src/assets/dataset.xlsx'\n",
    "data = openpyxl.load_workbook(file_path,read_only=True)"
   ]
  },
  {
   "cell_type": "code",
   "execution_count": 6,
   "metadata": {},
   "outputs": [],
   "source": [
    "# View data here\n",
    "sheet_obj = data.active\n",
    "df = pd.DataFrame(sheet_obj.values)"
   ]
  },
  {
   "cell_type": "code",
   "execution_count": 7,
   "metadata": {},
   "outputs": [
    {
     "data": {
      "text/html": [
       "<div>\n",
       "<style scoped>\n",
       "    .dataframe tbody tr th:only-of-type {\n",
       "        vertical-align: middle;\n",
       "    }\n",
       "\n",
       "    .dataframe tbody tr th {\n",
       "        vertical-align: top;\n",
       "    }\n",
       "\n",
       "    .dataframe thead th {\n",
       "        text-align: right;\n",
       "    }\n",
       "</style>\n",
       "<table border=\"1\" class=\"dataframe\">\n",
       "  <thead>\n",
       "    <tr style=\"text-align: right;\">\n",
       "      <th></th>\n",
       "      <th>0</th>\n",
       "      <th>1</th>\n",
       "      <th>2</th>\n",
       "      <th>3</th>\n",
       "      <th>4</th>\n",
       "      <th>5</th>\n",
       "      <th>6</th>\n",
       "      <th>7</th>\n",
       "      <th>8</th>\n",
       "      <th>9</th>\n",
       "      <th>10</th>\n",
       "      <th>11</th>\n",
       "      <th>12</th>\n",
       "      <th>13</th>\n",
       "    </tr>\n",
       "  </thead>\n",
       "  <tbody>\n",
       "    <tr>\n",
       "      <th>0</th>\n",
       "      <td>Num_contribuable</td>\n",
       "      <td>Year</td>\n",
       "      <td>Taille</td>\n",
       "      <td>Form_juridique</td>\n",
       "      <td>Region</td>\n",
       "      <td>Produire_IP</td>\n",
       "      <td>Produire_IC</td>\n",
       "      <td>Produire_TVQ</td>\n",
       "      <td>Produire_RAS</td>\n",
       "      <td>Declarer_IP</td>\n",
       "      <td>Declarer_IC</td>\n",
       "      <td>Declarer_TVQ</td>\n",
       "      <td>Declarer_RAS</td>\n",
       "      <td>Mode_transmission</td>\n",
       "    </tr>\n",
       "    <tr>\n",
       "      <th>1</th>\n",
       "      <td>1</td>\n",
       "      <td>2014</td>\n",
       "      <td>MOYENNE</td>\n",
       "      <td>C</td>\n",
       "      <td>MONTREAL</td>\n",
       "      <td>None</td>\n",
       "      <td>1</td>\n",
       "      <td>1</td>\n",
       "      <td>0</td>\n",
       "      <td>None</td>\n",
       "      <td>0</td>\n",
       "      <td>1</td>\n",
       "      <td>1</td>\n",
       "      <td>logiciel</td>\n",
       "    </tr>\n",
       "    <tr>\n",
       "      <th>2</th>\n",
       "      <td>1</td>\n",
       "      <td>2016</td>\n",
       "      <td>MOYENNE</td>\n",
       "      <td>C</td>\n",
       "      <td>MONTREAL</td>\n",
       "      <td>None</td>\n",
       "      <td>1</td>\n",
       "      <td>1</td>\n",
       "      <td>0</td>\n",
       "      <td>None</td>\n",
       "      <td>0</td>\n",
       "      <td>0</td>\n",
       "      <td>1</td>\n",
       "      <td>logiciel</td>\n",
       "    </tr>\n",
       "    <tr>\n",
       "      <th>3</th>\n",
       "      <td>1</td>\n",
       "      <td>2018</td>\n",
       "      <td>MOYENNE</td>\n",
       "      <td>C</td>\n",
       "      <td>MONTREAL</td>\n",
       "      <td>None</td>\n",
       "      <td>0</td>\n",
       "      <td>0</td>\n",
       "      <td>0</td>\n",
       "      <td>None</td>\n",
       "      <td>1</td>\n",
       "      <td>1</td>\n",
       "      <td>0</td>\n",
       "      <td>logiciel</td>\n",
       "    </tr>\n",
       "    <tr>\n",
       "      <th>4</th>\n",
       "      <td>1</td>\n",
       "      <td>2015</td>\n",
       "      <td>MOYENNE</td>\n",
       "      <td>C</td>\n",
       "      <td>MONTREAL</td>\n",
       "      <td>None</td>\n",
       "      <td>1</td>\n",
       "      <td>0</td>\n",
       "      <td>1</td>\n",
       "      <td>None</td>\n",
       "      <td>0</td>\n",
       "      <td>1</td>\n",
       "      <td>0</td>\n",
       "      <td>logiciel</td>\n",
       "    </tr>\n",
       "    <tr>\n",
       "      <th>...</th>\n",
       "      <td>...</td>\n",
       "      <td>...</td>\n",
       "      <td>...</td>\n",
       "      <td>...</td>\n",
       "      <td>...</td>\n",
       "      <td>...</td>\n",
       "      <td>...</td>\n",
       "      <td>...</td>\n",
       "      <td>...</td>\n",
       "      <td>...</td>\n",
       "      <td>...</td>\n",
       "      <td>...</td>\n",
       "      <td>...</td>\n",
       "      <td>...</td>\n",
       "    </tr>\n",
       "    <tr>\n",
       "      <th>191874</th>\n",
       "      <td>38272</td>\n",
       "      <td>2016</td>\n",
       "      <td>PETITE</td>\n",
       "      <td>P</td>\n",
       "      <td>None</td>\n",
       "      <td>None</td>\n",
       "      <td>None</td>\n",
       "      <td>None</td>\n",
       "      <td>None</td>\n",
       "      <td>None</td>\n",
       "      <td>None</td>\n",
       "      <td>None</td>\n",
       "      <td>None</td>\n",
       "      <td>indeterminé</td>\n",
       "    </tr>\n",
       "    <tr>\n",
       "      <th>191875</th>\n",
       "      <td>38272</td>\n",
       "      <td>2017</td>\n",
       "      <td>PETITE</td>\n",
       "      <td>P</td>\n",
       "      <td>None</td>\n",
       "      <td>None</td>\n",
       "      <td>None</td>\n",
       "      <td>None</td>\n",
       "      <td>None</td>\n",
       "      <td>0</td>\n",
       "      <td>None</td>\n",
       "      <td>None</td>\n",
       "      <td>None</td>\n",
       "      <td>indeterminé</td>\n",
       "    </tr>\n",
       "    <tr>\n",
       "      <th>191876</th>\n",
       "      <td>38272</td>\n",
       "      <td>2014</td>\n",
       "      <td>PETITE</td>\n",
       "      <td>P</td>\n",
       "      <td>None</td>\n",
       "      <td>None</td>\n",
       "      <td>None</td>\n",
       "      <td>None</td>\n",
       "      <td>None</td>\n",
       "      <td>None</td>\n",
       "      <td>None</td>\n",
       "      <td>None</td>\n",
       "      <td>None</td>\n",
       "      <td>indeterminé</td>\n",
       "    </tr>\n",
       "    <tr>\n",
       "      <th>191877</th>\n",
       "      <td>38272</td>\n",
       "      <td>2015</td>\n",
       "      <td>PETITE</td>\n",
       "      <td>P</td>\n",
       "      <td>None</td>\n",
       "      <td>None</td>\n",
       "      <td>None</td>\n",
       "      <td>None</td>\n",
       "      <td>None</td>\n",
       "      <td>None</td>\n",
       "      <td>None</td>\n",
       "      <td>None</td>\n",
       "      <td>None</td>\n",
       "      <td>indeterminé</td>\n",
       "    </tr>\n",
       "    <tr>\n",
       "      <th>191878</th>\n",
       "      <td>38272</td>\n",
       "      <td>2018</td>\n",
       "      <td>PETITE</td>\n",
       "      <td>P</td>\n",
       "      <td>None</td>\n",
       "      <td>0</td>\n",
       "      <td>None</td>\n",
       "      <td>None</td>\n",
       "      <td>None</td>\n",
       "      <td>0</td>\n",
       "      <td>None</td>\n",
       "      <td>None</td>\n",
       "      <td>None</td>\n",
       "      <td>logiciel</td>\n",
       "    </tr>\n",
       "  </tbody>\n",
       "</table>\n",
       "<p>191879 rows × 14 columns</p>\n",
       "</div>"
      ],
      "text/plain": [
       "                       0     1        2               3         4  \\\n",
       "0       Num_contribuable  Year   Taille  Form_juridique    Region   \n",
       "1                      1  2014  MOYENNE               C  MONTREAL   \n",
       "2                      1  2016  MOYENNE               C  MONTREAL   \n",
       "3                      1  2018  MOYENNE               C  MONTREAL   \n",
       "4                      1  2015  MOYENNE               C  MONTREAL   \n",
       "...                  ...   ...      ...             ...       ...   \n",
       "191874             38272  2016   PETITE               P      None   \n",
       "191875             38272  2017   PETITE               P      None   \n",
       "191876             38272  2014   PETITE               P      None   \n",
       "191877             38272  2015   PETITE               P      None   \n",
       "191878             38272  2018   PETITE               P      None   \n",
       "\n",
       "                  5            6             7             8            9  \\\n",
       "0       Produire_IP  Produire_IC  Produire_TVQ  Produire_RAS  Declarer_IP   \n",
       "1              None            1             1             0         None   \n",
       "2              None            1             1             0         None   \n",
       "3              None            0             0             0         None   \n",
       "4              None            1             0             1         None   \n",
       "...             ...          ...           ...           ...          ...   \n",
       "191874         None         None          None          None         None   \n",
       "191875         None         None          None          None            0   \n",
       "191876         None         None          None          None         None   \n",
       "191877         None         None          None          None         None   \n",
       "191878            0         None          None          None            0   \n",
       "\n",
       "                 10            11            12                 13  \n",
       "0       Declarer_IC  Declarer_TVQ  Declarer_RAS  Mode_transmission  \n",
       "1                 0             1             1           logiciel  \n",
       "2                 0             0             1           logiciel  \n",
       "3                 1             1             0           logiciel  \n",
       "4                 0             1             0           logiciel  \n",
       "...             ...           ...           ...                ...  \n",
       "191874         None          None          None        indeterminé  \n",
       "191875         None          None          None        indeterminé  \n",
       "191876         None          None          None        indeterminé  \n",
       "191877         None          None          None        indeterminé  \n",
       "191878         None          None          None           logiciel  \n",
       "\n",
       "[191879 rows x 14 columns]"
      ]
     },
     "execution_count": 7,
     "metadata": {},
     "output_type": "execute_result"
    }
   ],
   "source": [
    "df"
   ]
  },
  {
   "cell_type": "code",
   "execution_count": 1,
   "metadata": {},
   "outputs": [],
   "source": [
    "import pandas as pd"
   ]
  },
  {
   "cell_type": "code",
   "execution_count": 2,
   "metadata": {},
   "outputs": [],
   "source": [
    "\n",
    "data = pd.read_csv(\"assets/dataset.csv\", delimiter=\";\", encoding=\"latin-1\")"
   ]
  },
  {
   "cell_type": "code",
   "execution_count": 7,
   "metadata": {},
   "outputs": [
    {
     "data": {
      "text/plain": [
       "['C', 'P', 'S']"
      ]
     },
     "execution_count": 7,
     "metadata": {},
     "output_type": "execute_result"
    }
   ],
   "source": [
    "formes_juridiques = data[\"Form_juridique\"].dropna().unique()\n",
    "list(formes_juridiques)"
   ]
  },
  {
   "cell_type": "code",
   "execution_count": 10,
   "metadata": {},
   "outputs": [
    {
     "data": {
      "text/plain": [
       "120570"
      ]
     },
     "execution_count": 10,
     "metadata": {},
     "output_type": "execute_result"
    }
   ],
   "source": [
    "#Number of C\n",
    "data_C_count = data[data[\"Form_juridique\"]==\"C\"].count()\n",
    "data_C_count[\"Form_juridique\"]"
   ]
  },
  {
   "cell_type": "code",
   "execution_count": 11,
   "metadata": {},
   "outputs": [
    {
     "data": {
      "text/plain": [
       "66525"
      ]
     },
     "execution_count": 11,
     "metadata": {},
     "output_type": "execute_result"
    }
   ],
   "source": [
    "#Number of P\n",
    "data_C_count = data[data[\"Form_juridique\"]==\"P\"].count()\n",
    "data_C_count[\"Form_juridique\"]"
   ]
  },
  {
   "cell_type": "code",
   "execution_count": 12,
   "metadata": {},
   "outputs": [
    {
     "data": {
      "text/plain": [
       "4265"
      ]
     },
     "execution_count": 12,
     "metadata": {},
     "output_type": "execute_result"
    }
   ],
   "source": [
    "#Number of S\n",
    "data_C_count = data[data[\"Form_juridique\"]==\"S\"].count()\n",
    "data_C_count[\"Form_juridique\"]"
   ]
  },
  {
   "cell_type": "code",
   "execution_count": 14,
   "metadata": {},
   "outputs": [],
   "source": [
    "X,Y,Z = [data[data[\"Form_juridique\"]==var].count()[\"Form_juridique\"] for var in list(formes_juridiques)]"
   ]
  }
 ],
 "metadata": {
  "kernelspec": {
   "display_name": "Python 3",
   "language": "python",
   "name": "python3"
  },
  "language_info": {
   "codemirror_mode": {
    "name": "ipython",
    "version": 3
   },
   "file_extension": ".py",
   "mimetype": "text/x-python",
   "name": "python",
   "nbconvert_exporter": "python",
   "pygments_lexer": "ipython3",
   "version": "3.8.16"
  },
  "orig_nbformat": 4
 },
 "nbformat": 4,
 "nbformat_minor": 2
}
